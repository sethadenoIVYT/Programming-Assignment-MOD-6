{
 "cells": [
  {
   "cell_type": "code",
   "execution_count": 5,
   "id": "4f67bfb0-4667-49ce-bd7c-87a35dbd7776",
   "metadata": {},
   "outputs": [],
   "source": [
    "from datetime import date\n",
    "\n",
    "with open (\"today.txt\", \"w\") as file:\n",
    "    file.write(str(date.today()))\n",
    "    file.close()"
   ]
  },
  {
   "cell_type": "code",
   "execution_count": 11,
   "id": "98d27687-cfef-491f-8566-3be8ee7a46eb",
   "metadata": {},
   "outputs": [],
   "source": [
    "openFile = open(\"today.txt\", \"r\")\n",
    "today_string = openFile.read()"
   ]
  },
  {
   "cell_type": "code",
   "execution_count": 17,
   "id": "0b2b1c32-250f-4f93-a55a-d496fe37a5d9",
   "metadata": {},
   "outputs": [
    {
     "name": "stdout",
     "output_type": "stream",
     "text": [
      "['2024', '09', '30']\n"
     ]
    }
   ],
   "source": [
    "parseDate = today_string.split('-')\n",
    "print(parseDate)"
   ]
  },
  {
   "cell_type": "code",
   "execution_count": 31,
   "id": "cd93a2f5-8287-4868-8864-bff49c3c4a54",
   "metadata": {},
   "outputs": [
    {
     "name": "stdout",
     "output_type": "stream",
     "text": [
      "1727718827.56999\n"
     ]
    }
   ],
   "source": [
    "import multiprocessing\n",
    "import time \n",
    "\n",
    "now = time.time()\n",
    "print(now)"
   ]
  },
  {
   "cell_type": "code",
   "execution_count": 49,
   "id": "44538215-d41c-4429-9c51-a7df8386e68a",
   "metadata": {},
   "outputs": [
    {
     "name": "stdout",
     "output_type": "stream",
     "text": [
      "Process 32057 says: I'm the main program\n"
     ]
    }
   ],
   "source": []
  }
 ],
 "metadata": {
  "kernelspec": {
   "display_name": "Python 3 (ipykernel)",
   "language": "python",
   "name": "python3"
  },
  "language_info": {
   "codemirror_mode": {
    "name": "ipython",
    "version": 3
   },
   "file_extension": ".py",
   "mimetype": "text/x-python",
   "name": "python",
   "nbconvert_exporter": "python",
   "pygments_lexer": "ipython3",
   "version": "3.12.4"
  }
 },
 "nbformat": 4,
 "nbformat_minor": 5
}
